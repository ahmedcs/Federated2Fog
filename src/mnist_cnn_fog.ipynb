{
 "cells": [
  {
   "cell_type": "code",
   "execution_count": 1,
   "metadata": {
    "collapsed": false
   },
   "outputs": [],
   "source": [
    "%load_ext autoreload\n",
    "%autoreload 2"
   ]
  },
  {
   "cell_type": "code",
   "execution_count": 2,
   "metadata": {
    "collapsed": false
   },
   "outputs": [
    {
     "name": "stderr",
     "output_type": "stream",
     "text": [
      "Falling back to insecure randomness since the required custom op could not be found for the installed version of TensorFlow. Fix this by compiling custom ops. Missing file was '/usr/local/lib/python3.6/dist-packages/tf_encrypted/operations/secure_random/secure_random_module_tf_1.15.3.so'\n"
     ]
    },
    {
     "name": "stdout",
     "output_type": "stream",
     "text": [
      "WARNING:tensorflow:From /usr/local/lib/python3.6/dist-packages/tf_encrypted/session.py:24: The name tf.Session is deprecated. Please use tf.compat.v1.Session instead.\n",
      "\n"
     ]
    }
   ],
   "source": [
    "from arguments import Arguments\n",
    "from cnn import CNN\n",
    "from collections import defaultdict\n",
    "from distributor import get_cluster_sizes, get_distributed_data, \\\n",
    "    get_distributed_data_using_loader, get_fog_graph\n",
    "from train import fog_train as train\n",
    "from numpy import array\n",
    "from numpy.random import permutation, randint\n",
    "import os\n",
    "from sklearn.model_selection import train_test_split\n",
    "import syft as sy\n",
    "import torch\n",
    "import torch.nn.functional as F\n",
    "import torch.optim as optim\n",
    "from torchvision import datasets, transforms\n",
    "from train import fog_train as train, test\n"
   ]
  },
  {
   "cell_type": "code",
   "execution_count": 3,
   "metadata": {
    "collapsed": false
   },
   "outputs": [],
   "source": [
    "# Setups\n",
    "args = Arguments()\n",
    "hook = sy.TorchHook(torch)\n",
    "USE_CUDA = not args.no_cuda and torch.cuda.is_available()\n",
    "\n",
    "torch.manual_seed(args.seed)\n",
    "device = torch.device(\"cuda\" if USE_CUDA else \"cpu\")\n",
    "kwargs = {'num_workers': 1, 'pin_memory': True} if USE_CUDA else {}\n",
    "kwargs = {}"
   ]
  },
  {
   "cell_type": "code",
   "execution_count": 4,
   "metadata": {
    "collapsed": false
   },
   "outputs": [],
   "source": [
    "ckpt_path = '../ckpts'\n",
    "dataset = 'mnist'\n",
    "clf_type = 'cnn'\n",
    "paradigm = 'fog'\n",
    "model_name = '{}_{}_{}'.format(dataset, clf_type, paradigm)\n",
    "init_path = os.path.join(ckpt_path, 'mnist_cnn_fl.init')\n",
    "best_path = os.path.join(ckpt_path, model_name + '.best')\n",
    "stop_path = os.path.join(ckpt_path, model_name + '.stop')"
   ]
  },
  {
   "cell_type": "code",
   "execution_count": 5,
   "metadata": {
    "collapsed": false
   },
   "outputs": [
    {
     "name": "stdout",
     "output_type": "stream",
     "text": [
      "X_train: torch.Size([60000, 1, 28, 28])\n",
      "y_train: torch.Size([60000])\n",
      "X_test: torch.Size([10000, 1, 28, 28])\n",
      "y_test: torch.Size([10000])\n"
     ]
    }
   ],
   "source": [
    "train_loader = torch.utils.data.DataLoader(\n",
    "    datasets.MNIST('../data', train=True, download=True,\n",
    "                   transform=transforms.Compose([\n",
    "                       transforms.ToTensor(),\n",
    "                       transforms.Normalize((0.1307,), (0.3081,))\n",
    "                   ])),\n",
    "    batch_size=args.num_train, shuffle=True, **kwargs)\n",
    "\n",
    "test_loader = torch.utils.data.DataLoader(\n",
    "    datasets.MNIST('../data', train=False, transform=transforms.Compose([\n",
    "                       transforms.ToTensor(),\n",
    "                       transforms.Normalize((0.1307,), (0.3081,))\n",
    "                   ])),\n",
    "    batch_size=args.test_batch_size, shuffle=True, **kwargs)\n",
    "\n",
    "for data, target in train_loader:\n",
    "    X_train = data\n",
    "    y_train = target\n",
    "\n",
    "for data, target in test_loader:\n",
    "    X_test = data\n",
    "    y_test = target\n",
    "\n",
    "print('X_train: {}'.format(X_train.shape))\n",
    "print('y_train: {}'.format(y_train.shape))\n",
    "\n",
    "print('X_test: {}'.format(X_test.shape))\n",
    "print('y_test: {}'.format(y_test.shape))"
   ]
  },
  {
   "cell_type": "code",
   "execution_count": 6,
   "metadata": {
    "collapsed": false
   },
   "outputs": [
    {
     "data": {
      "text/plain": [
       "{'L1_W0': ['L0_W25', 'L0_W20', 'L0_W42', 'L0_W27', 'L0_W17'],\n",
       " 'L1_W1': ['L0_W48', 'L0_W34', 'L0_W6', 'L0_W45', 'L0_W31'],\n",
       " 'L1_W2': ['L0_W13', 'L0_W15', 'L0_W10', 'L0_W28', 'L0_W0'],\n",
       " 'L1_W3': ['L0_W43', 'L0_W4', 'L0_W7', 'L0_W35', 'L0_W11'],\n",
       " 'L1_W4': ['L0_W22', 'L0_W1', 'L0_W33', 'L0_W41', 'L0_W49'],\n",
       " 'L1_W5': ['L0_W38', 'L0_W36', 'L0_W40', 'L0_W14', 'L0_W5'],\n",
       " 'L1_W6': ['L0_W18', 'L0_W44', 'L0_W12', 'L0_W30', 'L0_W32'],\n",
       " 'L1_W7': ['L0_W37', 'L0_W47', 'L0_W8', 'L0_W24', 'L0_W3'],\n",
       " 'L1_W8': ['L0_W26', 'L0_W29', 'L0_W2', 'L0_W23', 'L0_W46'],\n",
       " 'L1_W9': ['L0_W19', 'L0_W16', 'L0_W39', 'L0_W21', 'L0_W9'],\n",
       " 'L2_W0': ['L1_W8', 'L1_W5'],\n",
       " 'L2_W1': ['L1_W3', 'L1_W0'],\n",
       " 'L2_W2': ['L1_W1', 'L1_W6'],\n",
       " 'L2_W3': ['L1_W7', 'L1_W4'],\n",
       " 'L2_W4': ['L1_W2', 'L1_W9'],\n",
       " 'L3_W0': ['L2_W0', 'L2_W3', 'L2_W1'],\n",
       " 'L3_W1': ['L2_W4', 'L2_W2'],\n",
       " 'L4_W0': ['L3_W1', 'L3_W0']}"
      ]
     },
     "execution_count": 6,
     "metadata": {},
     "output_type": "execute_result"
    }
   ],
   "source": [
    "# prepare graph and data\n",
    "fog_graph, workers = get_fog_graph(hook, args.num_workers, args.num_clusters,\n",
    "                                 args.shuffle_workers, args.uniform_clusters)\n",
    "X_trains, y_trains = get_distributed_data(X_train, y_train, args.num_workers)\n",
    "# X_trains, y_trains = get_distributed_data_using_loader(train_loader)\n",
    "fog_graph"
   ]
  },
  {
   "cell_type": "code",
   "execution_count": 9,
   "metadata": {
    "collapsed": false
   },
   "outputs": [
    {
     "name": "stdout",
     "output_type": "stream",
     "text": [
      "Load init: ../ckpts/mnist_cnn_fl.init\n"
     ]
    }
   ],
   "source": [
    "best = 0\n",
    "# Fire the engines\n",
    "model = CNN().to(device)\n",
    "if args.load_init:\n",
    "    model.load_state_dict(torch.load(init_path))\n",
    "    print('Load init: {}'.format(init_path))\n",
    "elif args.save_init:\n",
    "    torch.save(model.state_dict(), init_path)\n",
    "    print('Save init: {}'.format(init_path))\n"
   ]
  },
  {
   "cell_type": "code",
   "execution_count": 10,
   "metadata": {
    "collapsed": false
   },
   "outputs": [
    {
     "name": "stdout",
     "output_type": "stream",
     "text": [
      "Model best  @ 1, acc 0.1793: ../ckpts/mnist_cnn_fog.best\n",
      "\n"
     ]
    },
    {
     "name": "stdout",
     "output_type": "stream",
     "text": [
      "Model best  @ 2, acc 0.3031: ../ckpts/mnist_cnn_fog.best\n",
      "\n"
     ]
    },
    {
     "name": "stdout",
     "output_type": "stream",
     "text": [
      "Model best  @ 3, acc 0.3945: ../ckpts/mnist_cnn_fog.best\n",
      "\n"
     ]
    },
    {
     "name": "stdout",
     "output_type": "stream",
     "text": [
      "Model best  @ 4, acc 0.4855: ../ckpts/mnist_cnn_fog.best\n",
      "\n"
     ]
    },
    {
     "name": "stdout",
     "output_type": "stream",
     "text": [
      "Model best  @ 5, acc 0.5699: ../ckpts/mnist_cnn_fog.best\n",
      "\n"
     ]
    },
    {
     "name": "stdout",
     "output_type": "stream",
     "text": [
      "Model best  @ 6, acc 0.6262: ../ckpts/mnist_cnn_fog.best\n",
      "\n"
     ]
    },
    {
     "name": "stdout",
     "output_type": "stream",
     "text": [
      "Model best  @ 7, acc 0.6646: ../ckpts/mnist_cnn_fog.best\n",
      "\n"
     ]
    },
    {
     "name": "stdout",
     "output_type": "stream",
     "text": [
      "Model best  @ 8, acc 0.6912: ../ckpts/mnist_cnn_fog.best\n",
      "\n"
     ]
    },
    {
     "name": "stdout",
     "output_type": "stream",
     "text": [
      "Model best  @ 9, acc 0.7114: ../ckpts/mnist_cnn_fog.best\n",
      "\n"
     ]
    },
    {
     "name": "stdout",
     "output_type": "stream",
     "text": [
      "Train Epoch: 10 \tLoss: 2.041748 +- 0.002780\n"
     ]
    },
    {
     "name": "stdout",
     "output_type": "stream",
     "text": [
      "\n",
      "Test set: Average loss: 1.9826, Accuracy: 7249/10000 (72.49%) ==> 71.14%\n",
      "Model best  @ 10, acc 0.7249: ../ckpts/mnist_cnn_fog.best\n",
      "\n"
     ]
    },
    {
     "name": "stdout",
     "output_type": "stream",
     "text": [
      "Model best  @ 11, acc 0.7348: ../ckpts/mnist_cnn_fog.best\n",
      "\n"
     ]
    },
    {
     "name": "stdout",
     "output_type": "stream",
     "text": [
      "Model best  @ 12, acc 0.739: ../ckpts/mnist_cnn_fog.best\n",
      "\n"
     ]
    },
    {
     "name": "stdout",
     "output_type": "stream",
     "text": [
      "Model best  @ 13, acc 0.7469: ../ckpts/mnist_cnn_fog.best\n",
      "\n"
     ]
    },
    {
     "name": "stdout",
     "output_type": "stream",
     "text": [
      "Model best  @ 14, acc 0.7578: ../ckpts/mnist_cnn_fog.best\n",
      "\n"
     ]
    },
    {
     "name": "stdout",
     "output_type": "stream",
     "text": [
      "Model best  @ 15, acc 0.7722: ../ckpts/mnist_cnn_fog.best\n",
      "\n"
     ]
    },
    {
     "name": "stdout",
     "output_type": "stream",
     "text": [
      "Model best  @ 16, acc 0.7878: ../ckpts/mnist_cnn_fog.best\n",
      "\n"
     ]
    },
    {
     "name": "stdout",
     "output_type": "stream",
     "text": [
      "Model best  @ 17, acc 0.8024: ../ckpts/mnist_cnn_fog.best\n",
      "\n"
     ]
    },
    {
     "name": "stdout",
     "output_type": "stream",
     "text": [
      "Model best  @ 18, acc 0.8122: ../ckpts/mnist_cnn_fog.best\n",
      "\n"
     ]
    },
    {
     "name": "stdout",
     "output_type": "stream",
     "text": [
      "Model best  @ 19, acc 0.8232: ../ckpts/mnist_cnn_fog.best\n",
      "\n"
     ]
    },
    {
     "name": "stdout",
     "output_type": "stream",
     "text": [
      "Train Epoch: 20 \tLoss: 1.048531 +- 0.013079\n"
     ]
    },
    {
     "name": "stdout",
     "output_type": "stream",
     "text": [
      "\n",
      "Test set: Average loss: 0.9168, Accuracy: 8344/10000 (83.44%) ==> 82.32%\n",
      "Model best  @ 20, acc 0.8344: ../ckpts/mnist_cnn_fog.best\n",
      "\n"
     ]
    },
    {
     "name": "stdout",
     "output_type": "stream",
     "text": [
      "Model best  @ 21, acc 0.8401: ../ckpts/mnist_cnn_fog.best\n",
      "\n"
     ]
    },
    {
     "name": "stdout",
     "output_type": "stream",
     "text": [
      "Train Epoch: 30 \tLoss: 1.140160 +- 0.011949\n"
     ]
    },
    {
     "name": "stdout",
     "output_type": "stream",
     "text": [
      "\n",
      "Test set: Average loss: 0.9983, Accuracy: 7711/10000 (77.11%) ==> 84.01%\n"
     ]
    },
    {
     "name": "stdout",
     "output_type": "stream",
     "text": [
      "Model best  @ 33, acc 0.8434: ../ckpts/mnist_cnn_fog.best\n",
      "\n"
     ]
    },
    {
     "name": "stdout",
     "output_type": "stream",
     "text": [
      "Model best  @ 34, acc 0.8612: ../ckpts/mnist_cnn_fog.best\n",
      "\n"
     ]
    },
    {
     "name": "stdout",
     "output_type": "stream",
     "text": [
      "Model best  @ 35, acc 0.8648: ../ckpts/mnist_cnn_fog.best\n",
      "\n"
     ]
    },
    {
     "name": "stdout",
     "output_type": "stream",
     "text": [
      "Model best  @ 36, acc 0.8687: ../ckpts/mnist_cnn_fog.best\n",
      "\n"
     ]
    },
    {
     "name": "stdout",
     "output_type": "stream",
     "text": [
      "Model best  @ 37, acc 0.8699: ../ckpts/mnist_cnn_fog.best\n",
      "\n"
     ]
    },
    {
     "name": "stdout",
     "output_type": "stream",
     "text": [
      "Model best  @ 38, acc 0.8768: ../ckpts/mnist_cnn_fog.best\n",
      "\n"
     ]
    },
    {
     "name": "stdout",
     "output_type": "stream",
     "text": [
      "Train Epoch: 40 \tLoss: 0.538778 +- 0.021237\n"
     ]
    },
    {
     "name": "stdout",
     "output_type": "stream",
     "text": [
      "\n",
      "Test set: Average loss: 0.8020, Accuracy: 6940/10000 (69.40%) ==> 87.68%\n"
     ]
    },
    {
     "name": "stdout",
     "output_type": "stream",
     "text": [
      "Model best  @ 46, acc 0.8784: ../ckpts/mnist_cnn_fog.best\n",
      "\n"
     ]
    },
    {
     "name": "stdout",
     "output_type": "stream",
     "text": [
      "Model best  @ 47, acc 0.8904: ../ckpts/mnist_cnn_fog.best\n",
      "\n"
     ]
    },
    {
     "name": "stdout",
     "output_type": "stream",
     "text": [
      "Model best  @ 48, acc 0.8934: ../ckpts/mnist_cnn_fog.best\n",
      "\n"
     ]
    },
    {
     "name": "stdout",
     "output_type": "stream",
     "text": [
      "Model best  @ 49, acc 0.8956: ../ckpts/mnist_cnn_fog.best\n",
      "\n"
     ]
    },
    {
     "name": "stdout",
     "output_type": "stream",
     "text": [
      "Train Epoch: 50 \tLoss: 0.434799 +- 0.020115\n"
     ]
    },
    {
     "name": "stdout",
     "output_type": "stream",
     "text": [
      "\n",
      "Test set: Average loss: 0.3956, Accuracy: 8980/10000 (89.80%) ==> 89.56%\n",
      "Model best  @ 50, acc 0.898: ../ckpts/mnist_cnn_fog.best\n",
      "\n"
     ]
    },
    {
     "name": "stdout",
     "output_type": "stream",
     "text": [
      "Model best  @ 51, acc 0.8985: ../ckpts/mnist_cnn_fog.best\n",
      "\n"
     ]
    },
    {
     "name": "stdout",
     "output_type": "stream",
     "text": [
      "Model best  @ 52, acc 0.8997: ../ckpts/mnist_cnn_fog.best\n",
      "\n"
     ]
    },
    {
     "name": "stdout",
     "output_type": "stream",
     "text": [
      "Model best  @ 53, acc 0.9011: ../ckpts/mnist_cnn_fog.best\n",
      "\n"
     ]
    },
    {
     "name": "stdout",
     "output_type": "stream",
     "text": [
      "Model best  @ 54, acc 0.9023: ../ckpts/mnist_cnn_fog.best\n",
      "\n"
     ]
    },
    {
     "name": "stdout",
     "output_type": "stream",
     "text": [
      "Model best  @ 55, acc 0.9042: ../ckpts/mnist_cnn_fog.best\n",
      "\n"
     ]
    },
    {
     "name": "stdout",
     "output_type": "stream",
     "text": [
      "Model best  @ 56, acc 0.9044: ../ckpts/mnist_cnn_fog.best\n",
      "\n"
     ]
    },
    {
     "name": "stdout",
     "output_type": "stream",
     "text": [
      "Model best  @ 57, acc 0.9077: ../ckpts/mnist_cnn_fog.best\n",
      "\n"
     ]
    },
    {
     "name": "stdout",
     "output_type": "stream",
     "text": [
      "Train Epoch: 60 \tLoss: 0.356215 +- 0.022444\n"
     ]
    },
    {
     "name": "stdout",
     "output_type": "stream",
     "text": [
      "\n",
      "Test set: Average loss: 0.3620, Accuracy: 8842/10000 (88.42%) ==> 90.77%\n"
     ]
    },
    {
     "name": "stdout",
     "output_type": "stream",
     "text": [
      "Model best  @ 66, acc 0.9159: ../ckpts/mnist_cnn_fog.best\n",
      "\n"
     ]
    },
    {
     "name": "stdout",
     "output_type": "stream",
     "text": [
      "Model best  @ 67, acc 0.9169: ../ckpts/mnist_cnn_fog.best\n",
      "\n"
     ]
    },
    {
     "name": "stdout",
     "output_type": "stream",
     "text": [
      "Model best  @ 68, acc 0.9185: ../ckpts/mnist_cnn_fog.best\n",
      "\n"
     ]
    },
    {
     "name": "stdout",
     "output_type": "stream",
     "text": [
      "Model best  @ 69, acc 0.9192: ../ckpts/mnist_cnn_fog.best\n",
      "\n"
     ]
    },
    {
     "name": "stdout",
     "output_type": "stream",
     "text": [
      "Train Epoch: 70 \tLoss: 0.316127 +- 0.020909\n"
     ]
    },
    {
     "name": "stdout",
     "output_type": "stream",
     "text": [
      "\n",
      "Test set: Average loss: 0.2906, Accuracy: 9202/10000 (92.02%) ==> 91.92%\n",
      "Model best  @ 70, acc 0.9202: ../ckpts/mnist_cnn_fog.best\n",
      "\n"
     ]
    },
    {
     "name": "stdout",
     "output_type": "stream",
     "text": [
      "Model best  @ 71, acc 0.9215: ../ckpts/mnist_cnn_fog.best\n",
      "\n"
     ]
    },
    {
     "name": "stdout",
     "output_type": "stream",
     "text": [
      "Model best  @ 72, acc 0.9225: ../ckpts/mnist_cnn_fog.best\n",
      "\n"
     ]
    },
    {
     "name": "stdout",
     "output_type": "stream",
     "text": [
      "Model best  @ 73, acc 0.9233: ../ckpts/mnist_cnn_fog.best\n",
      "\n"
     ]
    },
    {
     "name": "stdout",
     "output_type": "stream",
     "text": [
      "Model best  @ 74, acc 0.924: ../ckpts/mnist_cnn_fog.best\n",
      "\n"
     ]
    },
    {
     "name": "stdout",
     "output_type": "stream",
     "text": [
      "Model best  @ 75, acc 0.9244: ../ckpts/mnist_cnn_fog.best\n",
      "\n"
     ]
    },
    {
     "name": "stdout",
     "output_type": "stream",
     "text": [
      "Model best  @ 76, acc 0.9251: ../ckpts/mnist_cnn_fog.best\n",
      "\n"
     ]
    },
    {
     "name": "stdout",
     "output_type": "stream",
     "text": [
      "Model best  @ 77, acc 0.9255: ../ckpts/mnist_cnn_fog.best\n",
      "\n"
     ]
    },
    {
     "name": "stdout",
     "output_type": "stream",
     "text": [
      "Model best  @ 78, acc 0.9274: ../ckpts/mnist_cnn_fog.best\n",
      "\n"
     ]
    },
    {
     "name": "stdout",
     "output_type": "stream",
     "text": [
      "Train Epoch: 80 \tLoss: 0.275772 +- 0.021879\n"
     ]
    },
    {
     "name": "stdout",
     "output_type": "stream",
     "text": [
      "\n",
      "Test set: Average loss: 0.2540, Accuracy: 9288/10000 (92.88%) ==> 92.74%\n",
      "Model best  @ 80, acc 0.9288: ../ckpts/mnist_cnn_fog.best\n",
      "\n"
     ]
    },
    {
     "name": "stdout",
     "output_type": "stream",
     "text": [
      "Model best  @ 82, acc 0.9301: ../ckpts/mnist_cnn_fog.best\n",
      "\n"
     ]
    },
    {
     "name": "stdout",
     "output_type": "stream",
     "text": [
      "Model best  @ 83, acc 0.9303: ../ckpts/mnist_cnn_fog.best\n",
      "\n"
     ]
    },
    {
     "name": "stdout",
     "output_type": "stream",
     "text": [
      "Model best  @ 84, acc 0.931: ../ckpts/mnist_cnn_fog.best\n",
      "\n"
     ]
    },
    {
     "name": "stdout",
     "output_type": "stream",
     "text": [
      "Model best  @ 86, acc 0.9321: ../ckpts/mnist_cnn_fog.best\n",
      "\n"
     ]
    },
    {
     "name": "stdout",
     "output_type": "stream",
     "text": [
      "Model best  @ 88, acc 0.9335: ../ckpts/mnist_cnn_fog.best\n",
      "\n"
     ]
    },
    {
     "name": "stdout",
     "output_type": "stream",
     "text": [
      "Train Epoch: 90 \tLoss: 0.250395 +- 0.021617\n"
     ]
    },
    {
     "name": "stdout",
     "output_type": "stream",
     "text": [
      "\n",
      "Test set: Average loss: 0.2301, Accuracy: 9347/10000 (93.47%) ==> 93.35%\n",
      "Model best  @ 90, acc 0.9347: ../ckpts/mnist_cnn_fog.best\n",
      "\n"
     ]
    },
    {
     "name": "stdout",
     "output_type": "stream",
     "text": [
      "Model best  @ 92, acc 0.9355: ../ckpts/mnist_cnn_fog.best\n",
      "\n"
     ]
    },
    {
     "name": "stdout",
     "output_type": "stream",
     "text": [
      "Train Epoch: 100 \tLoss: 0.273206 +- 0.022256\n"
     ]
    },
    {
     "name": "stdout",
     "output_type": "stream",
     "text": [
      "\n",
      "Test set: Average loss: 0.2770, Accuracy: 9125/10000 (91.25%) ==> 93.55%\n"
     ]
    },
    {
     "name": "stdout",
     "output_type": "stream",
     "text": [
      "Model best  @ 106, acc 0.9365: ../ckpts/mnist_cnn_fog.best\n",
      "\n"
     ]
    },
    {
     "name": "stdout",
     "output_type": "stream",
     "text": [
      "Model best  @ 107, acc 0.9389: ../ckpts/mnist_cnn_fog.best\n",
      "\n"
     ]
    },
    {
     "name": "stdout",
     "output_type": "stream",
     "text": [
      "Model best  @ 108, acc 0.9407: ../ckpts/mnist_cnn_fog.best\n",
      "\n"
     ]
    },
    {
     "name": "stdout",
     "output_type": "stream",
     "text": [
      "Model best  @ 109, acc 0.9413: ../ckpts/mnist_cnn_fog.best\n",
      "\n"
     ]
    },
    {
     "name": "stdout",
     "output_type": "stream",
     "text": [
      "Train Epoch: 110 \tLoss: 0.224108 +- 0.019593\n"
     ]
    },
    {
     "name": "stdout",
     "output_type": "stream",
     "text": [
      "\n",
      "Test set: Average loss: 0.2043, Accuracy: 9420/10000 (94.20%) ==> 94.13%\n",
      "Model best  @ 110, acc 0.942: ../ckpts/mnist_cnn_fog.best\n",
      "\n"
     ]
    },
    {
     "name": "stdout",
     "output_type": "stream",
     "text": [
      "Model best  @ 111, acc 0.943: ../ckpts/mnist_cnn_fog.best\n",
      "\n"
     ]
    },
    {
     "name": "stdout",
     "output_type": "stream",
     "text": [
      "Model best  @ 113, acc 0.9436: ../ckpts/mnist_cnn_fog.best\n",
      "\n"
     ]
    },
    {
     "name": "stdout",
     "output_type": "stream",
     "text": [
      "Model best  @ 114, acc 0.9439: ../ckpts/mnist_cnn_fog.best\n",
      "\n"
     ]
    },
    {
     "name": "stdout",
     "output_type": "stream",
     "text": [
      "Model best  @ 115, acc 0.9447: ../ckpts/mnist_cnn_fog.best\n",
      "\n"
     ]
    },
    {
     "name": "stdout",
     "output_type": "stream",
     "text": [
      "Model best  @ 117, acc 0.945: ../ckpts/mnist_cnn_fog.best\n",
      "\n"
     ]
    },
    {
     "name": "stdout",
     "output_type": "stream",
     "text": [
      "Model best  @ 119, acc 0.9453: ../ckpts/mnist_cnn_fog.best\n",
      "\n"
     ]
    },
    {
     "name": "stdout",
     "output_type": "stream",
     "text": [
      "Train Epoch: 120 \tLoss: 0.203568 +- 0.020109\n"
     ]
    },
    {
     "name": "stdout",
     "output_type": "stream",
     "text": [
      "\n",
      "Test set: Average loss: 0.1861, Accuracy: 9453/10000 (94.53%) ==> 94.53%\n"
     ]
    },
    {
     "name": "stdout",
     "output_type": "stream",
     "text": [
      "Model best  @ 121, acc 0.946: ../ckpts/mnist_cnn_fog.best\n",
      "\n"
     ]
    },
    {
     "name": "stdout",
     "output_type": "stream",
     "text": [
      "Model best  @ 122, acc 0.9461: ../ckpts/mnist_cnn_fog.best\n",
      "\n"
     ]
    },
    {
     "name": "stdout",
     "output_type": "stream",
     "text": [
      "Model best  @ 123, acc 0.9466: ../ckpts/mnist_cnn_fog.best\n",
      "\n"
     ]
    },
    {
     "name": "stdout",
     "output_type": "stream",
     "text": [
      "Model best  @ 124, acc 0.9467: ../ckpts/mnist_cnn_fog.best\n",
      "\n"
     ]
    },
    {
     "name": "stdout",
     "output_type": "stream",
     "text": [
      "Model best  @ 125, acc 0.9469: ../ckpts/mnist_cnn_fog.best\n",
      "\n"
     ]
    },
    {
     "name": "stdout",
     "output_type": "stream",
     "text": [
      "Model best  @ 126, acc 0.9474: ../ckpts/mnist_cnn_fog.best\n",
      "\n"
     ]
    },
    {
     "name": "stdout",
     "output_type": "stream",
     "text": [
      "Model best  @ 127, acc 0.9477: ../ckpts/mnist_cnn_fog.best\n",
      "\n"
     ]
    },
    {
     "name": "stdout",
     "output_type": "stream",
     "text": [
      "Model best  @ 128, acc 0.9479: ../ckpts/mnist_cnn_fog.best\n",
      "\n"
     ]
    },
    {
     "name": "stdout",
     "output_type": "stream",
     "text": [
      "Model best  @ 129, acc 0.9484: ../ckpts/mnist_cnn_fog.best\n",
      "\n"
     ]
    },
    {
     "name": "stdout",
     "output_type": "stream",
     "text": [
      "Train Epoch: 130 \tLoss: 0.189431 +- 0.019841\n"
     ]
    },
    {
     "name": "stdout",
     "output_type": "stream",
     "text": [
      "\n",
      "Test set: Average loss: 0.1729, Accuracy: 9486/10000 (94.86%) ==> 94.84%\n",
      "Model best  @ 130, acc 0.9486: ../ckpts/mnist_cnn_fog.best\n",
      "\n"
     ]
    },
    {
     "name": "stdout",
     "output_type": "stream",
     "text": [
      "Model best  @ 132, acc 0.9491: ../ckpts/mnist_cnn_fog.best\n",
      "\n"
     ]
    },
    {
     "name": "stdout",
     "output_type": "stream",
     "text": [
      "Model best  @ 133, acc 0.9495: ../ckpts/mnist_cnn_fog.best\n",
      "\n"
     ]
    },
    {
     "name": "stdout",
     "output_type": "stream",
     "text": [
      "Model best  @ 134, acc 0.9498: ../ckpts/mnist_cnn_fog.best\n",
      "\n"
     ]
    },
    {
     "name": "stdout",
     "output_type": "stream",
     "text": [
      "Model best  @ 135, acc 0.9502: ../ckpts/mnist_cnn_fog.best\n",
      "\n"
     ]
    },
    {
     "name": "stdout",
     "output_type": "stream",
     "text": [
      "Model best  @ 136, acc 0.9504: ../ckpts/mnist_cnn_fog.best\n",
      "\n"
     ]
    },
    {
     "name": "stdout",
     "output_type": "stream",
     "text": [
      "Model best  @ 137, acc 0.9506: ../ckpts/mnist_cnn_fog.best\n",
      "\n"
     ]
    },
    {
     "name": "stdout",
     "output_type": "stream",
     "text": [
      "Model best  @ 138, acc 0.9509: ../ckpts/mnist_cnn_fog.best\n",
      "\n"
     ]
    },
    {
     "name": "stdout",
     "output_type": "stream",
     "text": [
      "Model best  @ 139, acc 0.9513: ../ckpts/mnist_cnn_fog.best\n",
      "\n"
     ]
    },
    {
     "name": "stdout",
     "output_type": "stream",
     "text": [
      "Train Epoch: 140 \tLoss: 0.177741 +- 0.019394\n"
     ]
    },
    {
     "name": "stdout",
     "output_type": "stream",
     "text": [
      "\n",
      "Test set: Average loss: 0.1620, Accuracy: 9515/10000 (95.15%) ==> 95.13%\n",
      "Model best  @ 140, acc 0.9515: ../ckpts/mnist_cnn_fog.best\n",
      "\n"
     ]
    },
    {
     "name": "stdout",
     "output_type": "stream",
     "text": [
      "Model best  @ 141, acc 0.9521: ../ckpts/mnist_cnn_fog.best\n",
      "\n"
     ]
    },
    {
     "name": "stdout",
     "output_type": "stream",
     "text": [
      "Model best  @ 142, acc 0.9523: ../ckpts/mnist_cnn_fog.best\n",
      "\n"
     ]
    },
    {
     "name": "stdout",
     "output_type": "stream",
     "text": [
      "Model best  @ 143, acc 0.9527: ../ckpts/mnist_cnn_fog.best\n",
      "\n"
     ]
    },
    {
     "name": "stdout",
     "output_type": "stream",
     "text": [
      "Model best  @ 144, acc 0.9531: ../ckpts/mnist_cnn_fog.best\n",
      "\n"
     ]
    },
    {
     "name": "stdout",
     "output_type": "stream",
     "text": [
      "Model best  @ 146, acc 0.9534: ../ckpts/mnist_cnn_fog.best\n",
      "\n"
     ]
    },
    {
     "name": "stdout",
     "output_type": "stream",
     "text": [
      "Model best  @ 147, acc 0.9538: ../ckpts/mnist_cnn_fog.best\n",
      "\n"
     ]
    },
    {
     "name": "stdout",
     "output_type": "stream",
     "text": [
      "Model best  @ 149, acc 0.954: ../ckpts/mnist_cnn_fog.best\n",
      "\n"
     ]
    },
    {
     "name": "stdout",
     "output_type": "stream",
     "text": [
      "Train Epoch: 150 \tLoss: 0.167644 +- 0.018918\n"
     ]
    },
    {
     "name": "stdout",
     "output_type": "stream",
     "text": [
      "\n",
      "Test set: Average loss: 0.1525, Accuracy: 9544/10000 (95.44%) ==> 95.40%\n",
      "Model best  @ 150, acc 0.9544: ../ckpts/mnist_cnn_fog.best\n",
      "\n"
     ]
    },
    {
     "name": "stdout",
     "output_type": "stream",
     "text": [
      "Model best  @ 151, acc 0.9547: ../ckpts/mnist_cnn_fog.best\n",
      "\n"
     ]
    },
    {
     "name": "stdout",
     "output_type": "stream",
     "text": [
      "Model best  @ 152, acc 0.9556: ../ckpts/mnist_cnn_fog.best\n",
      "\n"
     ]
    },
    {
     "name": "stdout",
     "output_type": "stream",
     "text": [
      "Model best  @ 153, acc 0.9559: ../ckpts/mnist_cnn_fog.best\n",
      "\n"
     ]
    },
    {
     "name": "stdout",
     "output_type": "stream",
     "text": [
      "Model best  @ 154, acc 0.9561: ../ckpts/mnist_cnn_fog.best\n",
      "\n"
     ]
    },
    {
     "name": "stdout",
     "output_type": "stream",
     "text": [
      "Model best  @ 155, acc 0.9564: ../ckpts/mnist_cnn_fog.best\n",
      "\n"
     ]
    },
    {
     "name": "stdout",
     "output_type": "stream",
     "text": [
      "Model best  @ 156, acc 0.9571: ../ckpts/mnist_cnn_fog.best\n",
      "\n"
     ]
    },
    {
     "name": "stdout",
     "output_type": "stream",
     "text": [
      "Model best  @ 157, acc 0.9572: ../ckpts/mnist_cnn_fog.best\n",
      "\n"
     ]
    },
    {
     "name": "stdout",
     "output_type": "stream",
     "text": [
      "Model best  @ 158, acc 0.9574: ../ckpts/mnist_cnn_fog.best\n",
      "\n"
     ]
    },
    {
     "name": "stdout",
     "output_type": "stream",
     "text": [
      "Model best  @ 159, acc 0.9576: ../ckpts/mnist_cnn_fog.best\n",
      "\n"
     ]
    },
    {
     "name": "stdout",
     "output_type": "stream",
     "text": [
      "Train Epoch: 160 \tLoss: 0.158791 +- 0.018464\n"
     ]
    },
    {
     "name": "stdout",
     "output_type": "stream",
     "text": [
      "\n",
      "Test set: Average loss: 0.1442, Accuracy: 9577/10000 (95.77%) ==> 95.76%\n",
      "Model best  @ 160, acc 0.9577: ../ckpts/mnist_cnn_fog.best\n",
      "\n"
     ]
    },
    {
     "name": "stdout",
     "output_type": "stream",
     "text": [
      "Model best  @ 161, acc 0.9579: ../ckpts/mnist_cnn_fog.best\n",
      "\n"
     ]
    },
    {
     "name": "stdout",
     "output_type": "stream",
     "text": [
      "Model best  @ 162, acc 0.958: ../ckpts/mnist_cnn_fog.best\n",
      "\n"
     ]
    },
    {
     "name": "stdout",
     "output_type": "stream",
     "text": [
      "Model best  @ 163, acc 0.9582: ../ckpts/mnist_cnn_fog.best\n",
      "\n"
     ]
    },
    {
     "name": "stdout",
     "output_type": "stream",
     "text": [
      "Model best  @ 164, acc 0.9584: ../ckpts/mnist_cnn_fog.best\n",
      "\n"
     ]
    },
    {
     "name": "stdout",
     "output_type": "stream",
     "text": [
      "Model best  @ 165, acc 0.9587: ../ckpts/mnist_cnn_fog.best\n",
      "\n"
     ]
    },
    {
     "name": "stdout",
     "output_type": "stream",
     "text": [
      "Model best  @ 168, acc 0.9589: ../ckpts/mnist_cnn_fog.best\n",
      "\n"
     ]
    },
    {
     "name": "stdout",
     "output_type": "stream",
     "text": [
      "Model best  @ 169, acc 0.959: ../ckpts/mnist_cnn_fog.best\n",
      "\n"
     ]
    },
    {
     "name": "stdout",
     "output_type": "stream",
     "text": [
      "Train Epoch: 170 \tLoss: 0.150926 +- 0.018033\n"
     ]
    },
    {
     "name": "stdout",
     "output_type": "stream",
     "text": [
      "\n",
      "Test set: Average loss: 0.1368, Accuracy: 9594/10000 (95.94%) ==> 95.90%\n",
      "Model best  @ 170, acc 0.9594: ../ckpts/mnist_cnn_fog.best\n",
      "\n"
     ]
    },
    {
     "name": "stdout",
     "output_type": "stream",
     "text": [
      "Model best  @ 172, acc 0.9598: ../ckpts/mnist_cnn_fog.best\n",
      "\n"
     ]
    },
    {
     "name": "stdout",
     "output_type": "stream",
     "text": [
      "Model best  @ 173, acc 0.9599: ../ckpts/mnist_cnn_fog.best\n",
      "\n"
     ]
    },
    {
     "name": "stdout",
     "output_type": "stream",
     "text": [
      "Model best  @ 174, acc 0.9601: ../ckpts/mnist_cnn_fog.best\n",
      "\n"
     ]
    },
    {
     "name": "stdout",
     "output_type": "stream",
     "text": [
      "Model best  @ 175, acc 0.9602: ../ckpts/mnist_cnn_fog.best\n",
      "\n"
     ]
    },
    {
     "name": "stdout",
     "output_type": "stream",
     "text": [
      "Model best  @ 176, acc 0.9605: ../ckpts/mnist_cnn_fog.best\n",
      "\n"
     ]
    },
    {
     "name": "stdout",
     "output_type": "stream",
     "text": [
      "Model best  @ 177, acc 0.9611: ../ckpts/mnist_cnn_fog.best\n",
      "\n"
     ]
    },
    {
     "name": "stdout",
     "output_type": "stream",
     "text": [
      "Model best  @ 179, acc 0.9613: ../ckpts/mnist_cnn_fog.best\n",
      "\n"
     ]
    },
    {
     "name": "stdout",
     "output_type": "stream",
     "text": [
      "Train Epoch: 180 \tLoss: 0.143971 +- 0.017599\n"
     ]
    },
    {
     "name": "stdout",
     "output_type": "stream",
     "text": [
      "\n",
      "Test set: Average loss: 0.1305, Accuracy: 9617/10000 (96.17%) ==> 96.13%\n",
      "Model best  @ 180, acc 0.9617: ../ckpts/mnist_cnn_fog.best\n",
      "\n"
     ]
    },
    {
     "name": "stdout",
     "output_type": "stream",
     "text": [
      "Model best  @ 181, acc 0.9618: ../ckpts/mnist_cnn_fog.best\n",
      "\n"
     ]
    },
    {
     "name": "stdout",
     "output_type": "stream",
     "text": [
      "Model best  @ 183, acc 0.9622: ../ckpts/mnist_cnn_fog.best\n",
      "\n"
     ]
    },
    {
     "name": "stdout",
     "output_type": "stream",
     "text": [
      "Model best  @ 185, acc 0.9628: ../ckpts/mnist_cnn_fog.best\n",
      "\n"
     ]
    },
    {
     "name": "stdout",
     "output_type": "stream",
     "text": [
      "Model best  @ 187, acc 0.9629: ../ckpts/mnist_cnn_fog.best\n",
      "\n"
     ]
    },
    {
     "name": "stdout",
     "output_type": "stream",
     "text": [
      "Model best  @ 189, acc 0.9631: ../ckpts/mnist_cnn_fog.best\n",
      "\n"
     ]
    },
    {
     "name": "stdout",
     "output_type": "stream",
     "text": [
      "Train Epoch: 190 \tLoss: 0.142549 +- 0.017170\n"
     ]
    },
    {
     "name": "stdout",
     "output_type": "stream",
     "text": [
      "\n",
      "Test set: Average loss: 0.1321, Accuracy: 9591/10000 (95.91%) ==> 96.31%\n"
     ]
    },
    {
     "name": "stdout",
     "output_type": "stream",
     "text": [
      "Train Epoch: 200 \tLoss: 1.102600 +- 0.025999\n"
     ]
    },
    {
     "name": "stdout",
     "output_type": "stream",
     "text": [
      "\n",
      "Test set: Average loss: 0.6552, Accuracy: 7808/10000 (78.08%) ==> 96.31%\n",
      "Model stop: ../ckpts/mnist_cnn_fog.stop\n"
     ]
    }
   ],
   "source": [
    "best = 0\n",
    "\n",
    "for epoch in range(1, args.epochs + 1):\n",
    "    train(args, model, fog_graph, workers, X_trains, y_trains,\n",
    "          device, epoch)\n",
    "    acc = test(args, model, device, test_loader, best, epoch)\n",
    "\n",
    "    if args.save_model and acc > best:\n",
    "        best = acc\n",
    "        torch.save(model.state_dict(), best_path)\n",
    "        print('Model best  @ {}, acc {}: {}\\n'.format(epoch, acc, best_path))\n",
    "    \n",
    "if (args.save_model):\n",
    "    torch.save(model.state_dict(), stop_path)\n",
    "    print('Model stop: {}'.format(stop_path))\n"
   ]
  },
  {
   "cell_type": "code",
   "execution_count": null,
   "metadata": {
    "collapsed": false
   },
   "outputs": [],
   "source": [
    " "
   ]
  }
 ],
 "metadata": {
  "kernelspec": {
   "argv": [
    "python",
    "-m",
    "ipykernel_launcher",
    "-f",
    "{connection_file}"
   ],
   "display_name": "Python 3",
   "env": null,
   "interrupt_mode": "signal",
   "language": "python",
   "metadata": null,
   "name": "python3"
  },
  "name": "mnist_cnn_fog.ipynb"
 },
 "nbformat": 4,
 "nbformat_minor": 4
}
